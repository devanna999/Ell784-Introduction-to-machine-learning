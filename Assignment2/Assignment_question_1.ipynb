{
 "cells": [
  {
   "cell_type": "code",
   "execution_count": 20,
   "id": "47e00e9f",
   "metadata": {},
   "outputs": [],
   "source": [
    "import warnings\n",
    "warnings.filterwarnings(\"ignore\")\n",
    "import numpy as np\n",
    "import pandas as pd\n",
    "import matplotlib.pyplot as plt\n",
    "pd. set_option(\"display.max_columns\", None)\n",
    "%matplotlib inline\n",
    "from sklearn.svm import SVC\n",
    "from sklearn.preprocessing import StandardScaler\n",
    "from sklearn.model_selection import train_test_split\n",
    "from sklearn.metrics import accuracy_score\n",
    "from sklearn.metrics import classification_report, confusion_matrix\n",
    "\n"
   ]
  },
  {
   "cell_type": "code",
   "execution_count": 2,
   "id": "23f179c2",
   "metadata": {},
   "outputs": [],
   "source": [
    "df_data=pd.read_csv('feat_25.csv')"
   ]
  },
  {
   "cell_type": "code",
   "execution_count": 3,
   "id": "d088a292",
   "metadata": {},
   "outputs": [
    {
     "data": {
      "text/html": [
       "<div>\n",
       "<style scoped>\n",
       "    .dataframe tbody tr th:only-of-type {\n",
       "        vertical-align: middle;\n",
       "    }\n",
       "\n",
       "    .dataframe tbody tr th {\n",
       "        vertical-align: top;\n",
       "    }\n",
       "\n",
       "    .dataframe thead th {\n",
       "        text-align: right;\n",
       "    }\n",
       "</style>\n",
       "<table border=\"1\" class=\"dataframe\">\n",
       "  <thead>\n",
       "    <tr style=\"text-align: right;\">\n",
       "      <th></th>\n",
       "      <th>Unnamed: 0</th>\n",
       "      <th>Unnamed: 1</th>\n",
       "      <th>Unnamed: 2</th>\n",
       "      <th>Unnamed: 3</th>\n",
       "      <th>Unnamed: 4</th>\n",
       "      <th>Unnamed: 5</th>\n",
       "      <th>Unnamed: 6</th>\n",
       "      <th>Unnamed: 7</th>\n",
       "      <th>Unnamed: 8</th>\n",
       "      <th>Unnamed: 9</th>\n",
       "      <th>Unnamed: 10</th>\n",
       "      <th>Unnamed: 11</th>\n",
       "      <th>Unnamed: 12</th>\n",
       "      <th>Unnamed: 13</th>\n",
       "      <th>Unnamed: 14</th>\n",
       "      <th>Unnamed: 15</th>\n",
       "      <th>Unnamed: 16</th>\n",
       "      <th>Unnamed: 17</th>\n",
       "      <th>Unnamed: 18</th>\n",
       "      <th>Unnamed: 19</th>\n",
       "      <th>Unnamed: 20</th>\n",
       "      <th>Unnamed: 21</th>\n",
       "      <th>Unnamed: 22</th>\n",
       "      <th>Unnamed: 23</th>\n",
       "      <th>Unnamed: 24</th>\n",
       "      <th>label</th>\n",
       "    </tr>\n",
       "  </thead>\n",
       "  <tbody>\n",
       "    <tr>\n",
       "      <th>0</th>\n",
       "      <td>2.635364</td>\n",
       "      <td>-0.304088</td>\n",
       "      <td>-1.543373</td>\n",
       "      <td>0.626779</td>\n",
       "      <td>-1.274464</td>\n",
       "      <td>2.004415</td>\n",
       "      <td>2.632512</td>\n",
       "      <td>-0.357011</td>\n",
       "      <td>0.922301</td>\n",
       "      <td>-0.476381</td>\n",
       "      <td>-0.679394</td>\n",
       "      <td>0.845453</td>\n",
       "      <td>-1.620134</td>\n",
       "      <td>1.271039</td>\n",
       "      <td>0.232265</td>\n",
       "      <td>-0.610930</td>\n",
       "      <td>-1.540198</td>\n",
       "      <td>0.394365</td>\n",
       "      <td>-1.250810</td>\n",
       "      <td>0.035356</td>\n",
       "      <td>-0.938941</td>\n",
       "      <td>-0.157161</td>\n",
       "      <td>-0.544130</td>\n",
       "      <td>1.417567</td>\n",
       "      <td>0.972746</td>\n",
       "      <td>0</td>\n",
       "    </tr>\n",
       "    <tr>\n",
       "      <th>1</th>\n",
       "      <td>1.296154</td>\n",
       "      <td>-0.721865</td>\n",
       "      <td>0.072174</td>\n",
       "      <td>0.792741</td>\n",
       "      <td>-1.086483</td>\n",
       "      <td>-0.612700</td>\n",
       "      <td>0.892532</td>\n",
       "      <td>-1.096112</td>\n",
       "      <td>-1.216686</td>\n",
       "      <td>1.014303</td>\n",
       "      <td>-2.064474</td>\n",
       "      <td>-0.759082</td>\n",
       "      <td>-0.656331</td>\n",
       "      <td>-1.070139</td>\n",
       "      <td>0.926862</td>\n",
       "      <td>-0.112256</td>\n",
       "      <td>0.642093</td>\n",
       "      <td>1.253564</td>\n",
       "      <td>-0.778490</td>\n",
       "      <td>-1.254446</td>\n",
       "      <td>0.130718</td>\n",
       "      <td>-0.330290</td>\n",
       "      <td>-0.617679</td>\n",
       "      <td>-0.219169</td>\n",
       "      <td>0.272224</td>\n",
       "      <td>0</td>\n",
       "    </tr>\n",
       "    <tr>\n",
       "      <th>2</th>\n",
       "      <td>1.525916</td>\n",
       "      <td>-0.600327</td>\n",
       "      <td>0.888153</td>\n",
       "      <td>-0.938027</td>\n",
       "      <td>-2.587087</td>\n",
       "      <td>-0.828671</td>\n",
       "      <td>-0.647110</td>\n",
       "      <td>-1.114573</td>\n",
       "      <td>0.438973</td>\n",
       "      <td>-1.142408</td>\n",
       "      <td>-0.253257</td>\n",
       "      <td>0.024593</td>\n",
       "      <td>0.232901</td>\n",
       "      <td>-1.213998</td>\n",
       "      <td>-1.542672</td>\n",
       "      <td>0.402928</td>\n",
       "      <td>-0.788130</td>\n",
       "      <td>-0.964493</td>\n",
       "      <td>3.330313</td>\n",
       "      <td>-0.890775</td>\n",
       "      <td>-0.751055</td>\n",
       "      <td>-0.944583</td>\n",
       "      <td>0.016899</td>\n",
       "      <td>0.093836</td>\n",
       "      <td>-0.204122</td>\n",
       "      <td>0</td>\n",
       "    </tr>\n",
       "    <tr>\n",
       "      <th>3</th>\n",
       "      <td>1.873367</td>\n",
       "      <td>-0.009268</td>\n",
       "      <td>1.933797</td>\n",
       "      <td>-0.494299</td>\n",
       "      <td>1.302262</td>\n",
       "      <td>-1.368107</td>\n",
       "      <td>0.876166</td>\n",
       "      <td>1.714779</td>\n",
       "      <td>-0.336721</td>\n",
       "      <td>0.127624</td>\n",
       "      <td>-0.159981</td>\n",
       "      <td>-1.202945</td>\n",
       "      <td>-1.578440</td>\n",
       "      <td>1.088574</td>\n",
       "      <td>1.495203</td>\n",
       "      <td>0.430647</td>\n",
       "      <td>-0.671202</td>\n",
       "      <td>0.584147</td>\n",
       "      <td>-1.498880</td>\n",
       "      <td>-0.130008</td>\n",
       "      <td>0.426312</td>\n",
       "      <td>0.000161</td>\n",
       "      <td>-0.658402</td>\n",
       "      <td>-0.704637</td>\n",
       "      <td>0.073824</td>\n",
       "      <td>0</td>\n",
       "    </tr>\n",
       "    <tr>\n",
       "      <th>4</th>\n",
       "      <td>1.876098</td>\n",
       "      <td>-0.611675</td>\n",
       "      <td>1.493026</td>\n",
       "      <td>-1.576377</td>\n",
       "      <td>-1.931573</td>\n",
       "      <td>-0.834816</td>\n",
       "      <td>-0.851659</td>\n",
       "      <td>-0.670840</td>\n",
       "      <td>0.740518</td>\n",
       "      <td>-1.304296</td>\n",
       "      <td>-0.559495</td>\n",
       "      <td>0.052864</td>\n",
       "      <td>-1.214895</td>\n",
       "      <td>-0.972922</td>\n",
       "      <td>-0.675875</td>\n",
       "      <td>-0.496011</td>\n",
       "      <td>0.453942</td>\n",
       "      <td>-0.641921</td>\n",
       "      <td>2.515081</td>\n",
       "      <td>-0.339636</td>\n",
       "      <td>-0.710988</td>\n",
       "      <td>-0.648390</td>\n",
       "      <td>0.857998</td>\n",
       "      <td>-0.653816</td>\n",
       "      <td>-0.006759</td>\n",
       "      <td>0</td>\n",
       "    </tr>\n",
       "  </tbody>\n",
       "</table>\n",
       "</div>"
      ],
      "text/plain": [
       "   Unnamed: 0  Unnamed: 1  Unnamed: 2  Unnamed: 3  Unnamed: 4  Unnamed: 5  \\\n",
       "0    2.635364   -0.304088   -1.543373    0.626779   -1.274464    2.004415   \n",
       "1    1.296154   -0.721865    0.072174    0.792741   -1.086483   -0.612700   \n",
       "2    1.525916   -0.600327    0.888153   -0.938027   -2.587087   -0.828671   \n",
       "3    1.873367   -0.009268    1.933797   -0.494299    1.302262   -1.368107   \n",
       "4    1.876098   -0.611675    1.493026   -1.576377   -1.931573   -0.834816   \n",
       "\n",
       "   Unnamed: 6  Unnamed: 7  Unnamed: 8  Unnamed: 9  Unnamed: 10  Unnamed: 11  \\\n",
       "0    2.632512   -0.357011    0.922301   -0.476381    -0.679394     0.845453   \n",
       "1    0.892532   -1.096112   -1.216686    1.014303    -2.064474    -0.759082   \n",
       "2   -0.647110   -1.114573    0.438973   -1.142408    -0.253257     0.024593   \n",
       "3    0.876166    1.714779   -0.336721    0.127624    -0.159981    -1.202945   \n",
       "4   -0.851659   -0.670840    0.740518   -1.304296    -0.559495     0.052864   \n",
       "\n",
       "   Unnamed: 12  Unnamed: 13  Unnamed: 14  Unnamed: 15  Unnamed: 16  \\\n",
       "0    -1.620134     1.271039     0.232265    -0.610930    -1.540198   \n",
       "1    -0.656331    -1.070139     0.926862    -0.112256     0.642093   \n",
       "2     0.232901    -1.213998    -1.542672     0.402928    -0.788130   \n",
       "3    -1.578440     1.088574     1.495203     0.430647    -0.671202   \n",
       "4    -1.214895    -0.972922    -0.675875    -0.496011     0.453942   \n",
       "\n",
       "   Unnamed: 17  Unnamed: 18  Unnamed: 19  Unnamed: 20  Unnamed: 21  \\\n",
       "0     0.394365    -1.250810     0.035356    -0.938941    -0.157161   \n",
       "1     1.253564    -0.778490    -1.254446     0.130718    -0.330290   \n",
       "2    -0.964493     3.330313    -0.890775    -0.751055    -0.944583   \n",
       "3     0.584147    -1.498880    -0.130008     0.426312     0.000161   \n",
       "4    -0.641921     2.515081    -0.339636    -0.710988    -0.648390   \n",
       "\n",
       "   Unnamed: 22  Unnamed: 23  Unnamed: 24  label  \n",
       "0    -0.544130     1.417567     0.972746      0  \n",
       "1    -0.617679    -0.219169     0.272224      0  \n",
       "2     0.016899     0.093836    -0.204122      0  \n",
       "3    -0.658402    -0.704637     0.073824      0  \n",
       "4     0.857998    -0.653816    -0.006759      0  "
      ]
     },
     "execution_count": 3,
     "metadata": {},
     "output_type": "execute_result"
    }
   ],
   "source": [
    "df_data.head()"
   ]
  },
  {
   "cell_type": "code",
   "execution_count": 4,
   "id": "4546275e",
   "metadata": {},
   "outputs": [
    {
     "data": {
      "text/plain": [
       "(3000, 26)"
      ]
     },
     "execution_count": 4,
     "metadata": {},
     "output_type": "execute_result"
    }
   ],
   "source": [
    "df_data.shape"
   ]
  },
  {
   "cell_type": "code",
   "execution_count": 5,
   "id": "b7a42111",
   "metadata": {},
   "outputs": [],
   "source": [
    "df=df_data.iloc[:,:25]\n",
    "label=df_data['label']"
   ]
  },
  {
   "cell_type": "code",
   "execution_count": 6,
   "id": "0f9e4277",
   "metadata": {},
   "outputs": [
    {
     "data": {
      "text/plain": [
       "(3000, 25)"
      ]
     },
     "execution_count": 6,
     "metadata": {},
     "output_type": "execute_result"
    }
   ],
   "source": [
    "df.shape"
   ]
  },
  {
   "cell_type": "code",
   "execution_count": 7,
   "id": "f09d44ef",
   "metadata": {},
   "outputs": [
    {
     "data": {
      "text/plain": [
       "(3000,)"
      ]
     },
     "execution_count": 7,
     "metadata": {},
     "output_type": "execute_result"
    }
   ],
   "source": [
    "label.shape"
   ]
  },
  {
   "cell_type": "code",
   "execution_count": 46,
   "id": "9882657a",
   "metadata": {},
   "outputs": [],
   "source": [
    "#from pandas_profiling import ProfileReport\n",
    "profile = ProfileReport(df, title=\"Pandas Profiling Report\")"
   ]
  },
  {
   "cell_type": "code",
   "execution_count": 48,
   "id": "458f4294",
   "metadata": {},
   "outputs": [
    {
     "data": {
      "application/vnd.jupyter.widget-view+json": {
       "model_id": "59c79c5c0ac3425cb5413cf794559f04",
       "version_major": 2,
       "version_minor": 0
      },
      "text/plain": [
       "Generate report structure:   0%|          | 0/1 [00:00<?, ?it/s]"
      ]
     },
     "metadata": {},
     "output_type": "display_data"
    },
    {
     "data": {
      "application/vnd.jupyter.widget-view+json": {
       "model_id": "",
       "version_major": 2,
       "version_minor": 0
      },
      "text/plain": [
       "Render widgets:   0%|          | 0/1 [00:00<?, ?it/s]"
      ]
     },
     "metadata": {},
     "output_type": "display_data"
    },
    {
     "data": {
      "application/vnd.jupyter.widget-view+json": {
       "model_id": "f7306ab7de944cae958e384af416395c",
       "version_major": 2,
       "version_minor": 0
      },
      "text/plain": [
       "VBox(children=(Tab(children=(Tab(children=(GridBox(children=(VBox(children=(GridspecLayout(children=(HTML(valu…"
      ]
     },
     "metadata": {},
     "output_type": "display_data"
    }
   ],
   "source": [
    "#profile.to_widgets()"
   ]
  },
  {
   "cell_type": "code",
   "execution_count": 8,
   "id": "04734535",
   "metadata": {},
   "outputs": [],
   "source": [
    "X_train, X_test, y_train, y_test = train_test_split(df, label, test_size=0.3, random_state=1, stratify = label)# stratify to avoid class imbalancing"
   ]
  },
  {
   "cell_type": "markdown",
   "id": "d7f687b7",
   "metadata": {},
   "source": [
    "## Check data for null values and missing values"
   ]
  },
  {
   "cell_type": "code",
   "execution_count": 9,
   "id": "d7840fa2",
   "metadata": {
    "scrolled": true
   },
   "outputs": [
    {
     "data": {
      "text/plain": [
       "Unnamed: 0     0\n",
       "Unnamed: 1     0\n",
       "Unnamed: 2     0\n",
       "Unnamed: 3     0\n",
       "Unnamed: 4     0\n",
       "Unnamed: 5     0\n",
       "Unnamed: 6     0\n",
       "Unnamed: 7     0\n",
       "Unnamed: 8     0\n",
       "Unnamed: 9     0\n",
       "Unnamed: 10    0\n",
       "Unnamed: 11    0\n",
       "Unnamed: 12    0\n",
       "Unnamed: 13    0\n",
       "Unnamed: 14    0\n",
       "Unnamed: 15    0\n",
       "Unnamed: 16    0\n",
       "Unnamed: 17    0\n",
       "Unnamed: 18    0\n",
       "Unnamed: 19    0\n",
       "Unnamed: 20    0\n",
       "Unnamed: 21    0\n",
       "Unnamed: 22    0\n",
       "Unnamed: 23    0\n",
       "Unnamed: 24    0\n",
       "dtype: int64"
      ]
     },
     "execution_count": 9,
     "metadata": {},
     "output_type": "execute_result"
    }
   ],
   "source": [
    "df.isnull().sum() ## No missing values"
   ]
  },
  {
   "cell_type": "code",
   "execution_count": 10,
   "id": "f438ab03",
   "metadata": {},
   "outputs": [
    {
     "data": {
      "text/html": [
       "<div>\n",
       "<style scoped>\n",
       "    .dataframe tbody tr th:only-of-type {\n",
       "        vertical-align: middle;\n",
       "    }\n",
       "\n",
       "    .dataframe tbody tr th {\n",
       "        vertical-align: top;\n",
       "    }\n",
       "\n",
       "    .dataframe thead th {\n",
       "        text-align: right;\n",
       "    }\n",
       "</style>\n",
       "<table border=\"1\" class=\"dataframe\">\n",
       "  <thead>\n",
       "    <tr style=\"text-align: right;\">\n",
       "      <th></th>\n",
       "      <th>Unnamed: 0</th>\n",
       "      <th>Unnamed: 1</th>\n",
       "      <th>Unnamed: 2</th>\n",
       "      <th>Unnamed: 3</th>\n",
       "      <th>Unnamed: 4</th>\n",
       "      <th>Unnamed: 5</th>\n",
       "      <th>Unnamed: 6</th>\n",
       "      <th>Unnamed: 7</th>\n",
       "      <th>Unnamed: 8</th>\n",
       "      <th>Unnamed: 9</th>\n",
       "      <th>Unnamed: 10</th>\n",
       "      <th>Unnamed: 11</th>\n",
       "      <th>Unnamed: 12</th>\n",
       "      <th>Unnamed: 13</th>\n",
       "      <th>Unnamed: 14</th>\n",
       "      <th>Unnamed: 15</th>\n",
       "      <th>Unnamed: 16</th>\n",
       "      <th>Unnamed: 17</th>\n",
       "      <th>Unnamed: 18</th>\n",
       "      <th>Unnamed: 19</th>\n",
       "      <th>Unnamed: 20</th>\n",
       "      <th>Unnamed: 21</th>\n",
       "      <th>Unnamed: 22</th>\n",
       "      <th>Unnamed: 23</th>\n",
       "      <th>Unnamed: 24</th>\n",
       "    </tr>\n",
       "  </thead>\n",
       "  <tbody>\n",
       "    <tr>\n",
       "      <th>count</th>\n",
       "      <td>3.000000e+03</td>\n",
       "      <td>3.000000e+03</td>\n",
       "      <td>3.000000e+03</td>\n",
       "      <td>3.000000e+03</td>\n",
       "      <td>3.000000e+03</td>\n",
       "      <td>3.000000e+03</td>\n",
       "      <td>3.000000e+03</td>\n",
       "      <td>3.000000e+03</td>\n",
       "      <td>3.000000e+03</td>\n",
       "      <td>3.000000e+03</td>\n",
       "      <td>3.000000e+03</td>\n",
       "      <td>3.000000e+03</td>\n",
       "      <td>3.000000e+03</td>\n",
       "      <td>3.000000e+03</td>\n",
       "      <td>3.000000e+03</td>\n",
       "      <td>3.000000e+03</td>\n",
       "      <td>3.000000e+03</td>\n",
       "      <td>3.000000e+03</td>\n",
       "      <td>3.000000e+03</td>\n",
       "      <td>3.000000e+03</td>\n",
       "      <td>3.000000e+03</td>\n",
       "      <td>3.000000e+03</td>\n",
       "      <td>3.000000e+03</td>\n",
       "      <td>3.000000e+03</td>\n",
       "      <td>3.000000e+03</td>\n",
       "    </tr>\n",
       "    <tr>\n",
       "      <th>mean</th>\n",
       "      <td>9.333398e-12</td>\n",
       "      <td>-1.200072e-11</td>\n",
       "      <td>-2.999987e-12</td>\n",
       "      <td>3.335091e-13</td>\n",
       "      <td>-4.999722e-12</td>\n",
       "      <td>-2.333411e-12</td>\n",
       "      <td>-6.666686e-12</td>\n",
       "      <td>1.333233e-12</td>\n",
       "      <td>-2.000000e-12</td>\n",
       "      <td>-9.999332e-13</td>\n",
       "      <td>-2.666638e-12</td>\n",
       "      <td>-6.666620e-12</td>\n",
       "      <td>-4.666559e-12</td>\n",
       "      <td>1.333284e-12</td>\n",
       "      <td>-5.999767e-12</td>\n",
       "      <td>-2.999858e-12</td>\n",
       "      <td>-7.333148e-12</td>\n",
       "      <td>-3.334322e-13</td>\n",
       "      <td>-6.665099e-13</td>\n",
       "      <td>1.999843e-12</td>\n",
       "      <td>-6.999956e-12</td>\n",
       "      <td>2.000027e-12</td>\n",
       "      <td>3.666752e-12</td>\n",
       "      <td>8.999963e-12</td>\n",
       "      <td>-1.400001e-11</td>\n",
       "    </tr>\n",
       "    <tr>\n",
       "      <th>std</th>\n",
       "      <td>1.000000e+00</td>\n",
       "      <td>1.000000e+00</td>\n",
       "      <td>1.000000e+00</td>\n",
       "      <td>1.000000e+00</td>\n",
       "      <td>1.000000e+00</td>\n",
       "      <td>1.000000e+00</td>\n",
       "      <td>1.000000e+00</td>\n",
       "      <td>1.000000e+00</td>\n",
       "      <td>1.000000e+00</td>\n",
       "      <td>1.000000e+00</td>\n",
       "      <td>1.000000e+00</td>\n",
       "      <td>1.000000e+00</td>\n",
       "      <td>1.000000e+00</td>\n",
       "      <td>1.000000e+00</td>\n",
       "      <td>1.000000e+00</td>\n",
       "      <td>1.000000e+00</td>\n",
       "      <td>1.000000e+00</td>\n",
       "      <td>1.000000e+00</td>\n",
       "      <td>1.000000e+00</td>\n",
       "      <td>1.000000e+00</td>\n",
       "      <td>1.000000e+00</td>\n",
       "      <td>1.000000e+00</td>\n",
       "      <td>1.000000e+00</td>\n",
       "      <td>1.000000e+00</td>\n",
       "      <td>1.000000e+00</td>\n",
       "    </tr>\n",
       "    <tr>\n",
       "      <th>min</th>\n",
       "      <td>-1.789960e+00</td>\n",
       "      <td>-2.587950e+00</td>\n",
       "      <td>-2.754130e+00</td>\n",
       "      <td>-2.805608e+00</td>\n",
       "      <td>-2.749827e+00</td>\n",
       "      <td>-2.876071e+00</td>\n",
       "      <td>-2.659996e+00</td>\n",
       "      <td>-2.821675e+00</td>\n",
       "      <td>-3.080074e+00</td>\n",
       "      <td>-3.163819e+00</td>\n",
       "      <td>-3.235814e+00</td>\n",
       "      <td>-3.156153e+00</td>\n",
       "      <td>-3.122306e+00</td>\n",
       "      <td>-2.941533e+00</td>\n",
       "      <td>-3.135634e+00</td>\n",
       "      <td>-3.336436e+00</td>\n",
       "      <td>-3.279918e+00</td>\n",
       "      <td>-2.983516e+00</td>\n",
       "      <td>-3.434211e+00</td>\n",
       "      <td>-3.126884e+00</td>\n",
       "      <td>-3.637037e+00</td>\n",
       "      <td>-3.596098e+00</td>\n",
       "      <td>-3.784783e+00</td>\n",
       "      <td>-3.309904e+00</td>\n",
       "      <td>-3.602464e+00</td>\n",
       "    </tr>\n",
       "    <tr>\n",
       "      <th>25%</th>\n",
       "      <td>-7.141050e-01</td>\n",
       "      <td>-7.390432e-01</td>\n",
       "      <td>-7.193058e-01</td>\n",
       "      <td>-7.290563e-01</td>\n",
       "      <td>-6.595378e-01</td>\n",
       "      <td>-6.790280e-01</td>\n",
       "      <td>-7.167174e-01</td>\n",
       "      <td>-7.348636e-01</td>\n",
       "      <td>-7.067961e-01</td>\n",
       "      <td>-7.171446e-01</td>\n",
       "      <td>-6.878024e-01</td>\n",
       "      <td>-7.035210e-01</td>\n",
       "      <td>-6.874863e-01</td>\n",
       "      <td>-6.929013e-01</td>\n",
       "      <td>-6.932000e-01</td>\n",
       "      <td>-6.421310e-01</td>\n",
       "      <td>-6.942895e-01</td>\n",
       "      <td>-6.821080e-01</td>\n",
       "      <td>-6.146073e-01</td>\n",
       "      <td>-6.943959e-01</td>\n",
       "      <td>-6.512388e-01</td>\n",
       "      <td>-6.295880e-01</td>\n",
       "      <td>-6.622247e-01</td>\n",
       "      <td>-6.961082e-01</td>\n",
       "      <td>-5.839969e-01</td>\n",
       "    </tr>\n",
       "    <tr>\n",
       "      <th>50%</th>\n",
       "      <td>-9.943716e-02</td>\n",
       "      <td>-1.670179e-01</td>\n",
       "      <td>1.871209e-02</td>\n",
       "      <td>-3.923929e-02</td>\n",
       "      <td>9.490169e-03</td>\n",
       "      <td>-4.440216e-03</td>\n",
       "      <td>-3.527061e-02</td>\n",
       "      <td>-4.581859e-02</td>\n",
       "      <td>-1.986053e-02</td>\n",
       "      <td>-3.047797e-02</td>\n",
       "      <td>-5.533375e-03</td>\n",
       "      <td>3.740955e-04</td>\n",
       "      <td>2.034273e-02</td>\n",
       "      <td>-1.186078e-02</td>\n",
       "      <td>-4.696543e-02</td>\n",
       "      <td>6.317654e-02</td>\n",
       "      <td>-1.191983e-02</td>\n",
       "      <td>-2.023014e-02</td>\n",
       "      <td>-1.875957e-02</td>\n",
       "      <td>-1.554155e-02</td>\n",
       "      <td>1.389252e-02</td>\n",
       "      <td>-1.541484e-03</td>\n",
       "      <td>-4.105993e-02</td>\n",
       "      <td>-4.400202e-02</td>\n",
       "      <td>2.738101e-02</td>\n",
       "    </tr>\n",
       "    <tr>\n",
       "      <th>75%</th>\n",
       "      <td>5.807810e-01</td>\n",
       "      <td>7.664326e-01</td>\n",
       "      <td>6.804315e-01</td>\n",
       "      <td>6.612353e-01</td>\n",
       "      <td>6.577557e-01</td>\n",
       "      <td>7.058558e-01</td>\n",
       "      <td>6.957528e-01</td>\n",
       "      <td>6.752356e-01</td>\n",
       "      <td>7.068385e-01</td>\n",
       "      <td>6.911088e-01</td>\n",
       "      <td>6.522880e-01</td>\n",
       "      <td>6.699540e-01</td>\n",
       "      <td>6.642587e-01</td>\n",
       "      <td>6.963931e-01</td>\n",
       "      <td>6.961344e-01</td>\n",
       "      <td>6.521265e-01</td>\n",
       "      <td>6.438933e-01</td>\n",
       "      <td>6.788460e-01</td>\n",
       "      <td>6.431246e-01</td>\n",
       "      <td>6.477815e-01</td>\n",
       "      <td>6.549277e-01</td>\n",
       "      <td>6.313171e-01</td>\n",
       "      <td>6.475680e-01</td>\n",
       "      <td>6.381031e-01</td>\n",
       "      <td>6.255014e-01</td>\n",
       "    </tr>\n",
       "    <tr>\n",
       "      <th>max</th>\n",
       "      <td>3.663638e+00</td>\n",
       "      <td>2.864353e+00</td>\n",
       "      <td>3.338261e+00</td>\n",
       "      <td>3.195516e+00</td>\n",
       "      <td>3.178566e+00</td>\n",
       "      <td>3.018672e+00</td>\n",
       "      <td>3.597421e+00</td>\n",
       "      <td>3.028321e+00</td>\n",
       "      <td>4.040440e+00</td>\n",
       "      <td>3.231087e+00</td>\n",
       "      <td>3.490582e+00</td>\n",
       "      <td>3.478944e+00</td>\n",
       "      <td>3.410029e+00</td>\n",
       "      <td>3.227656e+00</td>\n",
       "      <td>3.667908e+00</td>\n",
       "      <td>4.095312e+00</td>\n",
       "      <td>3.579468e+00</td>\n",
       "      <td>3.672507e+00</td>\n",
       "      <td>3.615591e+00</td>\n",
       "      <td>4.026558e+00</td>\n",
       "      <td>4.919712e+00</td>\n",
       "      <td>4.121440e+00</td>\n",
       "      <td>4.196466e+00</td>\n",
       "      <td>3.677125e+00</td>\n",
       "      <td>4.038517e+00</td>\n",
       "    </tr>\n",
       "  </tbody>\n",
       "</table>\n",
       "</div>"
      ],
      "text/plain": [
       "         Unnamed: 0    Unnamed: 1    Unnamed: 2    Unnamed: 3    Unnamed: 4  \\\n",
       "count  3.000000e+03  3.000000e+03  3.000000e+03  3.000000e+03  3.000000e+03   \n",
       "mean   9.333398e-12 -1.200072e-11 -2.999987e-12  3.335091e-13 -4.999722e-12   \n",
       "std    1.000000e+00  1.000000e+00  1.000000e+00  1.000000e+00  1.000000e+00   \n",
       "min   -1.789960e+00 -2.587950e+00 -2.754130e+00 -2.805608e+00 -2.749827e+00   \n",
       "25%   -7.141050e-01 -7.390432e-01 -7.193058e-01 -7.290563e-01 -6.595378e-01   \n",
       "50%   -9.943716e-02 -1.670179e-01  1.871209e-02 -3.923929e-02  9.490169e-03   \n",
       "75%    5.807810e-01  7.664326e-01  6.804315e-01  6.612353e-01  6.577557e-01   \n",
       "max    3.663638e+00  2.864353e+00  3.338261e+00  3.195516e+00  3.178566e+00   \n",
       "\n",
       "         Unnamed: 5    Unnamed: 6    Unnamed: 7    Unnamed: 8    Unnamed: 9  \\\n",
       "count  3.000000e+03  3.000000e+03  3.000000e+03  3.000000e+03  3.000000e+03   \n",
       "mean  -2.333411e-12 -6.666686e-12  1.333233e-12 -2.000000e-12 -9.999332e-13   \n",
       "std    1.000000e+00  1.000000e+00  1.000000e+00  1.000000e+00  1.000000e+00   \n",
       "min   -2.876071e+00 -2.659996e+00 -2.821675e+00 -3.080074e+00 -3.163819e+00   \n",
       "25%   -6.790280e-01 -7.167174e-01 -7.348636e-01 -7.067961e-01 -7.171446e-01   \n",
       "50%   -4.440216e-03 -3.527061e-02 -4.581859e-02 -1.986053e-02 -3.047797e-02   \n",
       "75%    7.058558e-01  6.957528e-01  6.752356e-01  7.068385e-01  6.911088e-01   \n",
       "max    3.018672e+00  3.597421e+00  3.028321e+00  4.040440e+00  3.231087e+00   \n",
       "\n",
       "        Unnamed: 10   Unnamed: 11   Unnamed: 12   Unnamed: 13   Unnamed: 14  \\\n",
       "count  3.000000e+03  3.000000e+03  3.000000e+03  3.000000e+03  3.000000e+03   \n",
       "mean  -2.666638e-12 -6.666620e-12 -4.666559e-12  1.333284e-12 -5.999767e-12   \n",
       "std    1.000000e+00  1.000000e+00  1.000000e+00  1.000000e+00  1.000000e+00   \n",
       "min   -3.235814e+00 -3.156153e+00 -3.122306e+00 -2.941533e+00 -3.135634e+00   \n",
       "25%   -6.878024e-01 -7.035210e-01 -6.874863e-01 -6.929013e-01 -6.932000e-01   \n",
       "50%   -5.533375e-03  3.740955e-04  2.034273e-02 -1.186078e-02 -4.696543e-02   \n",
       "75%    6.522880e-01  6.699540e-01  6.642587e-01  6.963931e-01  6.961344e-01   \n",
       "max    3.490582e+00  3.478944e+00  3.410029e+00  3.227656e+00  3.667908e+00   \n",
       "\n",
       "        Unnamed: 15   Unnamed: 16   Unnamed: 17   Unnamed: 18   Unnamed: 19  \\\n",
       "count  3.000000e+03  3.000000e+03  3.000000e+03  3.000000e+03  3.000000e+03   \n",
       "mean  -2.999858e-12 -7.333148e-12 -3.334322e-13 -6.665099e-13  1.999843e-12   \n",
       "std    1.000000e+00  1.000000e+00  1.000000e+00  1.000000e+00  1.000000e+00   \n",
       "min   -3.336436e+00 -3.279918e+00 -2.983516e+00 -3.434211e+00 -3.126884e+00   \n",
       "25%   -6.421310e-01 -6.942895e-01 -6.821080e-01 -6.146073e-01 -6.943959e-01   \n",
       "50%    6.317654e-02 -1.191983e-02 -2.023014e-02 -1.875957e-02 -1.554155e-02   \n",
       "75%    6.521265e-01  6.438933e-01  6.788460e-01  6.431246e-01  6.477815e-01   \n",
       "max    4.095312e+00  3.579468e+00  3.672507e+00  3.615591e+00  4.026558e+00   \n",
       "\n",
       "        Unnamed: 20   Unnamed: 21   Unnamed: 22   Unnamed: 23   Unnamed: 24  \n",
       "count  3.000000e+03  3.000000e+03  3.000000e+03  3.000000e+03  3.000000e+03  \n",
       "mean  -6.999956e-12  2.000027e-12  3.666752e-12  8.999963e-12 -1.400001e-11  \n",
       "std    1.000000e+00  1.000000e+00  1.000000e+00  1.000000e+00  1.000000e+00  \n",
       "min   -3.637037e+00 -3.596098e+00 -3.784783e+00 -3.309904e+00 -3.602464e+00  \n",
       "25%   -6.512388e-01 -6.295880e-01 -6.622247e-01 -6.961082e-01 -5.839969e-01  \n",
       "50%    1.389252e-02 -1.541484e-03 -4.105993e-02 -4.400202e-02  2.738101e-02  \n",
       "75%    6.549277e-01  6.313171e-01  6.475680e-01  6.381031e-01  6.255014e-01  \n",
       "max    4.919712e+00  4.121440e+00  4.196466e+00  3.677125e+00  4.038517e+00  "
      ]
     },
     "execution_count": 10,
     "metadata": {},
     "output_type": "execute_result"
    }
   ],
   "source": [
    "df.describe()"
   ]
  },
  {
   "cell_type": "code",
   "execution_count": 11,
   "id": "27019749",
   "metadata": {},
   "outputs": [
    {
     "data": {
      "text/plain": [
       "Index(['Unnamed: 0', 'Unnamed: 1', 'Unnamed: 2', 'Unnamed: 3', 'Unnamed: 4',\n",
       "       'Unnamed: 5', 'Unnamed: 6', 'Unnamed: 7', 'Unnamed: 8', 'Unnamed: 9',\n",
       "       'Unnamed: 10', 'Unnamed: 11', 'Unnamed: 12', 'Unnamed: 13',\n",
       "       'Unnamed: 14', 'Unnamed: 15', 'Unnamed: 16', 'Unnamed: 17',\n",
       "       'Unnamed: 18', 'Unnamed: 19', 'Unnamed: 20', 'Unnamed: 21',\n",
       "       'Unnamed: 22', 'Unnamed: 23', 'Unnamed: 24'],\n",
       "      dtype='object')"
      ]
     },
     "execution_count": 11,
     "metadata": {},
     "output_type": "execute_result"
    }
   ],
   "source": [
    "df.columns ## all are object data type "
   ]
  },
  {
   "cell_type": "markdown",
   "id": "04aea3b4",
   "metadata": {},
   "source": [
    "## Linear kernel"
   ]
  },
  {
   "cell_type": "code",
   "execution_count": 12,
   "id": "12911c46",
   "metadata": {},
   "outputs": [
    {
     "name": "stdout",
     "output_type": "stream",
     "text": [
      "Training set score: 0.9252\n",
      "Test set score: 0.8833\n",
      "[[88  0  0  0  1  1  0  0  0  0]\n",
      " [ 0 87  1  1  0  0  1  0  0  0]\n",
      " [ 2  0 78  1  1  1  3  1  1  2]\n",
      " [ 2  0  7 68  0  8  2  1  2  0]\n",
      " [ 0  0  0  0 82  1  2  0  0  5]\n",
      " [ 1  0  0 11  4 71  3  0  0  0]\n",
      " [ 0  1  0  0  0  0 89  0  0  0]\n",
      " [ 0  0  1  0  3  1  0 77  1  7]\n",
      " [ 0  4  2  6  0  5  2  0 70  1]\n",
      " [ 0  0  0  0  4  2  0  2  0 82]]\n",
      "              precision    recall  f1-score   support\n",
      "\n",
      "           0       0.95      0.98      0.96        90\n",
      "           1       0.95      0.97      0.96        90\n",
      "           2       0.88      0.87      0.87        90\n",
      "           3       0.78      0.76      0.77        90\n",
      "           4       0.86      0.91      0.89        90\n",
      "           5       0.79      0.79      0.79        90\n",
      "           6       0.87      0.99      0.93        90\n",
      "           7       0.95      0.86      0.90        90\n",
      "           8       0.95      0.78      0.85        90\n",
      "           9       0.85      0.91      0.88        90\n",
      "\n",
      "    accuracy                           0.88       900\n",
      "   macro avg       0.88      0.88      0.88       900\n",
      "weighted avg       0.88      0.88      0.88       900\n",
      "\n"
     ]
    }
   ],
   "source": [
    "# Feature scaling\n",
    "sc = StandardScaler()\n",
    "sc.fit(X_train)\n",
    "X_train_std = sc.transform(X_train)\n",
    "X_test_std = sc.transform(X_test)\n",
    " \n",
    "# Train the model; We will train different models using different value of C\n",
    "svm = SVC(kernel= 'linear', random_state=1, C=0.051,gamma='scale')\n",
    "svm.fit(X_train_std, y_train)\n",
    " \n",
    "# Measure accuracy score\n",
    "y_pred = svm.predict(X_test_std)\n",
    "print('Training set score: {:.4f}'.format(svm.score(X_train, y_train)))\n",
    "print('Test set score: {:.4f}'.format(svm.score(X_test, y_test)))\n",
    "print(confusion_matrix(y_test,y_pred))\n",
    "print(classification_report(y_test,y_pred))"
   ]
  },
  {
   "cell_type": "markdown",
   "id": "fdc96a74",
   "metadata": {},
   "source": [
    "## RBF kernel"
   ]
  },
  {
   "cell_type": "code",
   "execution_count": 14,
   "id": "0d654a4d",
   "metadata": {},
   "outputs": [
    {
     "name": "stdout",
     "output_type": "stream",
     "text": [
      "Training set score: 0.8905\n",
      "Test set score: 0.8700\n",
      "[[83  0  0  0  1  5  1  0  0  0]\n",
      " [ 0 84  1  1  0  0  1  0  3  0]\n",
      " [ 0  1 79  2  2  2  1  0  2  1]\n",
      " [ 0  2 10 69  0  4  1  1  1  2]\n",
      " [ 0  1  0  0 78  2  0  0  1  8]\n",
      " [ 0  0  0  5  0 85  0  0  0  0]\n",
      " [ 1  0  2  0  0  4 83  0  0  0]\n",
      " [ 0  0  1  1  4  1  0 77  1  5]\n",
      " [ 0  3  1  4  0 15  0  0 65  2]\n",
      " [ 0  1  0  2  4  0  0  2  1 80]]\n",
      "              precision    recall  f1-score   support\n",
      "\n",
      "           0       0.99      0.92      0.95        90\n",
      "           1       0.91      0.93      0.92        90\n",
      "           2       0.84      0.88      0.86        90\n",
      "           3       0.82      0.77      0.79        90\n",
      "           4       0.88      0.87      0.87        90\n",
      "           5       0.72      0.94      0.82        90\n",
      "           6       0.95      0.92      0.94        90\n",
      "           7       0.96      0.86      0.91        90\n",
      "           8       0.88      0.72      0.79        90\n",
      "           9       0.82      0.89      0.85        90\n",
      "\n",
      "    accuracy                           0.87       900\n",
      "   macro avg       0.88      0.87      0.87       900\n",
      "weighted avg       0.88      0.87      0.87       900\n",
      "\n"
     ]
    }
   ],
   "source": [
    "# Feature scaling\n",
    "sc = StandardScaler()\n",
    "sc.fit(X_train)\n",
    "X_train_std = sc.transform(X_train)\n",
    "X_test_std = sc.transform(X_test)\n",
    " \n",
    "# Train the model; We will train different models using different value of C\n",
    "svm = SVC(kernel= 'rbf', random_state=1, C=0.051,gamma='scale')\n",
    "svm.fit(X_train_std, y_train)\n",
    " \n",
    "# Measure accuracy score\n",
    "y_pred = svm.predict(X_test_std)\n",
    "#('Accuracy: %.3f' % accuracy_score(y_test, y_pred))\n",
    "\n",
    "print('Training set score: {:.4f}'.format(svm.score(X_train, y_train)))\n",
    "\n",
    "print('Test set score: {:.4f}'.format(svm.score(X_test, y_test)))\n",
    "#The smaller the value of C, the wider the margins – which may lead to more misclassifications.\n",
    "##Inversely, the larger the value of C, the more narrow the margins of the classifier become – this may lead to fewer misclassifications\n",
    "# but higher values of c leads to overfitting\n",
    "print(confusion_matrix(y_test, y_pred))\n",
    "print(classification_report(y_test, y_pred))"
   ]
  },
  {
   "cell_type": "markdown",
   "id": "676c4a9a",
   "metadata": {},
   "source": [
    "## Polynomial kernel"
   ]
  },
  {
   "cell_type": "code",
   "execution_count": 15,
   "id": "5f517241",
   "metadata": {
    "scrolled": true
   },
   "outputs": [
    {
     "name": "stdout",
     "output_type": "stream",
     "text": [
      "[[83  0  0  0  1  5  1  0  0  0]\n",
      " [ 0 84  1  1  0  0  1  0  3  0]\n",
      " [ 0  1 79  2  2  2  1  0  2  1]\n",
      " [ 0  2 10 69  0  4  1  1  1  2]\n",
      " [ 0  1  0  0 78  2  0  0  1  8]\n",
      " [ 0  0  0  5  0 85  0  0  0  0]\n",
      " [ 1  0  2  0  0  4 83  0  0  0]\n",
      " [ 0  0  1  1  4  1  0 77  1  5]\n",
      " [ 0  3  1  4  0 15  0  0 65  2]\n",
      " [ 0  1  0  2  4  0  0  2  1 80]]\n",
      "              precision    recall  f1-score   support\n",
      "\n",
      "           0       0.99      0.92      0.95        90\n",
      "           1       0.91      0.93      0.92        90\n",
      "           2       0.84      0.88      0.86        90\n",
      "           3       0.82      0.77      0.79        90\n",
      "           4       0.88      0.87      0.87        90\n",
      "           5       0.72      0.94      0.82        90\n",
      "           6       0.95      0.92      0.94        90\n",
      "           7       0.96      0.86      0.91        90\n",
      "           8       0.88      0.72      0.79        90\n",
      "           9       0.82      0.89      0.85        90\n",
      "\n",
      "    accuracy                           0.87       900\n",
      "   macro avg       0.88      0.87      0.87       900\n",
      "weighted avg       0.88      0.87      0.87       900\n",
      "\n",
      "Training set score: 0.8905\n",
      "Test set score: 0.8700\n"
     ]
    }
   ],
   "source": [
    "from sklearn.svm import SVC\n",
    "svclassifier = SVC(kernel='poly', degree=8,gamma='scale')\n",
    "svclassifier.fit(X_train, y_train)\n",
    "print(confusion_matrix(y_test, y_pred))\n",
    "print(classification_report(y_test, y_pred))\n",
    "print('Training set score: {:.4f}'.format(svm.score(X_train, y_train)))\n",
    "print('Test set score: {:.4f}'.format(svm.score(X_test, y_test)))"
   ]
  },
  {
   "cell_type": "markdown",
   "id": "634383d1",
   "metadata": {},
   "source": [
    "## Cross validation with scikit learn"
   ]
  },
  {
   "cell_type": "code",
   "execution_count": 22,
   "id": "763f6880",
   "metadata": {},
   "outputs": [
    {
     "data": {
      "text/plain": [
       "array([0.94166667, 0.96166667, 0.96      , 0.94666667, 0.95666667])"
      ]
     },
     "execution_count": 22,
     "metadata": {},
     "output_type": "execute_result"
    }
   ],
   "source": [
    "from sklearn.model_selection import cross_val_score\n",
    "clf = SVC(kernel='rbf', C=1, random_state=42)\n",
    "scores_params1 = cross_val_score(clf, df, label, cv=5)\n",
    "scores_params1"
   ]
  },
  {
   "cell_type": "code",
   "execution_count": 23,
   "id": "3ae8551d",
   "metadata": {},
   "outputs": [
    {
     "data": {
      "text/plain": [
       "array([0.95      , 0.96666667, 0.95333333, 0.94833333, 0.96333333])"
      ]
     },
     "execution_count": 23,
     "metadata": {},
     "output_type": "execute_result"
    }
   ],
   "source": [
    "clf = SVC(kernel='rbf', C=2, random_state=42)\n",
    "scores_params2 = cross_val_score(clf, df, label, cv=5)\n",
    "scores_params2 ## we got a metric to evaluate the performance for a specified hyper parameter."
   ]
  },
  {
   "cell_type": "code",
   "execution_count": 40,
   "id": "bbad3ec9",
   "metadata": {},
   "outputs": [],
   "source": [
    "def check(num1,num2):\n",
    "    sum=0\n",
    "    \n",
    "    while num1<=num2:\n",
    "        lst=str(num1)\n",
    "       \n",
    "        for i in range(len(lst)-1):\n",
    "            \n",
    "            flag=False\n",
    "            if abs(int(lst[i+1])-int(lst[i]))==1:\n",
    "                   flag=True\n",
    "            else:\n",
    "                flag=False\n",
    "                break\n",
    "                \n",
    "                   \n",
    "                    \n",
    "        if flag==True:\n",
    "                   sum+=int(num1)\n",
    "        num1+=1\n",
    "    return sum            "
   ]
  },
  {
   "cell_type": "code",
   "execution_count": 43,
   "id": "149637fb",
   "metadata": {},
   "outputs": [
    {
     "data": {
      "text/plain": [
       "4119"
      ]
     },
     "execution_count": 43,
     "metadata": {},
     "output_type": "execute_result"
    }
   ],
   "source": [
    "check(123,456)"
   ]
  },
  {
   "cell_type": "code",
   "execution_count": 10,
   "id": "e71deefd",
   "metadata": {},
   "outputs": [
    {
     "ename": "NameError",
     "evalue": "name 'num1' is not defined",
     "output_type": "error",
     "traceback": [
      "\u001b[1;31m---------------------------------------------------------------------------\u001b[0m",
      "\u001b[1;31mNameError\u001b[0m                                 Traceback (most recent call last)",
      "\u001b[1;32m~\\AppData\\Local\\Temp/ipykernel_10424/3208322568.py\u001b[0m in \u001b[0;36m<module>\u001b[1;34m\u001b[0m\n\u001b[1;32m----> 1\u001b[1;33m \u001b[0mnum1\u001b[0m\u001b[1;33m\u001b[0m\u001b[1;33m\u001b[0m\u001b[0m\n\u001b[0m",
      "\u001b[1;31mNameError\u001b[0m: name 'num1' is not defined"
     ]
    }
   ],
   "source": [
    "num1"
   ]
  },
  {
   "cell_type": "code",
   "execution_count": null,
   "id": "717bac81",
   "metadata": {},
   "outputs": [],
   "source": []
  }
 ],
 "metadata": {
  "kernelspec": {
   "display_name": "Python 3 (ipykernel)",
   "language": "python",
   "name": "python3"
  },
  "language_info": {
   "codemirror_mode": {
    "name": "ipython",
    "version": 3
   },
   "file_extension": ".py",
   "mimetype": "text/x-python",
   "name": "python",
   "nbconvert_exporter": "python",
   "pygments_lexer": "ipython3",
   "version": "3.9.7"
  }
 },
 "nbformat": 4,
 "nbformat_minor": 5
}
